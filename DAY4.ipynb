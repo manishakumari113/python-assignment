{
 "cells": [
  {
   "cell_type": "markdown",
   "id": "b64a8ad9",
   "metadata": {},
   "source": [
    "Q1)Here is a brief explanation and an example of each method:"
   ]
  },
  {
   "cell_type": "markdown",
   "id": "ca864315",
   "metadata": {},
   "source": [
    "split: This method splits a string into a list of substrings based on a separator. If no separator is given, it splits on whitespace characters. For example:"
   ]
  },
  {
   "cell_type": "code",
   "execution_count": 1,
   "id": "7fd3ce1d",
   "metadata": {},
   "outputs": [
    {
     "data": {
      "text/plain": [
       "['Hello', 'world']"
      ]
     },
     "execution_count": 1,
     "metadata": {},
     "output_type": "execute_result"
    }
   ],
   "source": [
    "s = \"Hello world\"\n",
    "s.split()"
   ]
  },
  {
   "cell_type": "markdown",
   "id": "2b519283",
   "metadata": {},
   "source": [
    "strip: This method removes leading and trailing characters from a string. If no characters are given, it removes whitespace characters. For example:"
   ]
  },
  {
   "cell_type": "code",
   "execution_count": 3,
   "id": "bb0a3289",
   "metadata": {},
   "outputs": [
    {
     "data": {
      "text/plain": [
       "' Pytho'"
      ]
     },
     "execution_count": 3,
     "metadata": {},
     "output_type": "execute_result"
    }
   ],
   "source": [
    "s = \" Python\"\n",
    "s.strip(\"Pn\") "
   ]
  },
  {
   "cell_type": "markdown",
   "id": "dd47e064",
   "metadata": {},
   "source": [
    "replace: This method replaces all occurrences of a substring with another substring in a string. For example:"
   ]
  },
  {
   "cell_type": "code",
   "execution_count": 4,
   "id": "efa61ec1",
   "metadata": {},
   "outputs": [
    {
     "data": {
      "text/plain": [
       "'Hello Python'"
      ]
     },
     "execution_count": 4,
     "metadata": {},
     "output_type": "execute_result"
    }
   ],
   "source": [
    "s = \"Hello world\"\n",
    "s.replace(\"world\", \"Python\") "
   ]
  },
  {
   "cell_type": "markdown",
   "id": "f607f8b3",
   "metadata": {},
   "source": [
    "center: This method returns a new string that is centered within a specified width and padded with a specified character. If no character is given, it pads with whitespace characters. For example:"
   ]
  },
  {
   "cell_type": "code",
   "execution_count": 5,
   "id": "42b4dfb7",
   "metadata": {},
   "outputs": [
    {
     "data": {
      "text/plain": [
       "'  Python  '"
      ]
     },
     "execution_count": 5,
     "metadata": {},
     "output_type": "execute_result"
    }
   ],
   "source": [
    "s = \"Python\"\n",
    "s.center(10) "
   ]
  },
  {
   "cell_type": "markdown",
   "id": "d7394035",
   "metadata": {},
   "source": [
    "title: This method returns a new string that has the first letter of each word capitalized. For example:"
   ]
  },
  {
   "cell_type": "code",
   "execution_count": 6,
   "id": "aed20f19",
   "metadata": {},
   "outputs": [
    {
     "data": {
      "text/plain": [
       "'Hello World'"
      ]
     },
     "execution_count": 6,
     "metadata": {},
     "output_type": "execute_result"
    }
   ],
   "source": [
    "s = \"hello world\"\n",
    "s.title()"
   ]
  },
  {
   "cell_type": "markdown",
   "id": "af0988c4",
   "metadata": {},
   "source": [
    "Q2)Here is a brief explanation and an example of each method:\n"
   ]
  },
  {
   "cell_type": "markdown",
   "id": "cb63dcda",
   "metadata": {},
   "source": [
    "append: This method adds an item to the end of a list. For example:"
   ]
  },
  {
   "cell_type": "code",
   "execution_count": 11,
   "id": "e30a5737",
   "metadata": {},
   "outputs": [
    {
     "name": "stdout",
     "output_type": "stream",
     "text": [
      "[1, 2, 3, 4]\n"
     ]
    }
   ],
   "source": [
    "l = [1, 2, 3]\n",
    "l.append(4)\n",
    "print(l)\n"
   ]
  },
  {
   "cell_type": "markdown",
   "id": "8ed6be93",
   "metadata": {},
   "source": [
    "pop: This method removes and returns the item at a given position in a list. If no position is given, it removes and returns the last item in the list. If the list is empty or the position is out of range, it raises an IndexError. For example:"
   ]
  },
  {
   "cell_type": "code",
   "execution_count": 12,
   "id": "299cf10f",
   "metadata": {},
   "outputs": [
    {
     "name": "stdout",
     "output_type": "stream",
     "text": [
      "[1, 2, 3]\n"
     ]
    }
   ],
   "source": [
    "l = [1, 2, 3, 4]\n",
    "l.pop() \n",
    "print(l)"
   ]
  },
  {
   "cell_type": "markdown",
   "id": "aff38464",
   "metadata": {},
   "source": [
    "remove: This method removes the first occurrence of an item from a list. If the item is not in the list, it raises a ValueError. For example:"
   ]
  },
  {
   "cell_type": "code",
   "execution_count": 13,
   "id": "1844297a",
   "metadata": {},
   "outputs": [
    {
     "name": "stdout",
     "output_type": "stream",
     "text": [
      "[1, 2, 4]\n"
     ]
    }
   ],
   "source": [
    "l = [1, 2, 3, 4] \n",
    "l.remove(3) \n",
    "print(l)"
   ]
  },
  {
   "cell_type": "markdown",
   "id": "06671451",
   "metadata": {},
   "source": [
    "sort: This method sorts the items of a list in ascending or descending order. It can also take a key function or a reverse flag as arguments to customize the sorting. For example:"
   ]
  },
  {
   "cell_type": "code",
   "execution_count": 14,
   "id": "1ba11bac",
   "metadata": {},
   "outputs": [
    {
     "name": "stdout",
     "output_type": "stream",
     "text": [
      "[1, 2, 3, 4]\n"
     ]
    }
   ],
   "source": [
    "l = [4, 2, 3, 1]\n",
    "l.sort()\n",
    "print(l)"
   ]
  },
  {
   "cell_type": "code",
   "execution_count": 15,
   "id": "22d4542f",
   "metadata": {},
   "outputs": [],
   "source": [
    "countries = [\"India\", \"China\", \"USA\", \"UK\", \"Japan\"] \n",
    "fruits = [\"Apple\", \"Banana\", \"Orange\", \"Mango\", \"Grapes\"]\n",
    "books = [\"Harry Potter\", \"The Lord of the Rings\", \"The Hunger Games\", \"The Da Vinci Code\", \"The Catcher in the Rye\"]\n",
    "colors = [\"Red\", \"Green\", \"Blue\", \"Yellow\", \"Black\"] \n",
    "codes = [\"#FF0000\", \"#00FF00\", \"#0000FF\", \"#FFFF00\", \"#000000\"]\n"
   ]
  },
  {
   "cell_type": "markdown",
   "id": "fca73223",
   "metadata": {},
   "source": [
    "Q4)\n",
    "Mutable and immutable data types in Python are data types that differ in whether their values can be changed or not after they are created. \n",
    "\n",
    "Mutable data types are those whose values can be changed or modified in place, such as lists, sets, dictionaries, etc. \n",
    "\n",
    "Immutable data types are those whose values cannot be changed or modified in place, such as numbers, strings, tuples, bytes, etc.\n",
    "\n",
    "The difference between mutable and immutable data types is important for understanding how variables and objects work in Python, how memory allocation and garbage collection are performed, and how to avoid some common errors and bugs."
   ]
  },
  {
   "cell_type": "markdown",
   "id": "4b5c4da6",
   "metadata": {},
   "source": [
    "Q5)\n",
    "Identifiers are user-defined names given to variables, functions, classes, modules, and other objects in Python. Identifiers are used to refer to these objects in the code and perform various operations on them. Identifiers have some rules and conventions that must be followed in Python. Some of the rules are:\n",
    "\n",
    "1) Identifiers cannot be a keyword. Keywords are reserved words that have special meanings and syntax in Python. For example, you cannot use if, for, class, etc. as identifiers.\n",
    "\n",
    "2) Identifiers are case-sensitive. This means that uppercase and lowercase letters are treated differently. For example, sum and Sum are different identifiers.\n",
    "\n",
    "3) Identifiers can have a sequence of letters (A-Z or a-z), digits (0-9), or underscores (_). However, they must begin with a letter or an underscore. They cannot start with a digit.\n",
    "\n",
    "4) Identifiers cannot contain whitespaces or special symbols like !, @, #, $, etc. They can only contain alphanumeric characters and underscores.\n",
    "\n"
   ]
  }
 ],
 "metadata": {
  "kernelspec": {
   "display_name": "Python 3 (ipykernel)",
   "language": "python",
   "name": "python3"
  },
  "language_info": {
   "codemirror_mode": {
    "name": "ipython",
    "version": 3
   },
   "file_extension": ".py",
   "mimetype": "text/x-python",
   "name": "python",
   "nbconvert_exporter": "python",
   "pygments_lexer": "ipython3",
   "version": "3.10.9"
  }
 },
 "nbformat": 4,
 "nbformat_minor": 5
}
